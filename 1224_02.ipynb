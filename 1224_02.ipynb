{
  "nbformat": 4,
  "nbformat_minor": 0,
  "metadata": {
    "colab": {
      "provenance": [],
      "authorship_tag": "ABX9TyOtuxssx1Kr85ERbkmIqcfQ",
      "include_colab_link": true
    },
    "kernelspec": {
      "name": "python3",
      "display_name": "Python 3"
    },
    "language_info": {
      "name": "python"
    }
  },
  "cells": [
    {
      "cell_type": "markdown",
      "metadata": {
        "id": "view-in-github",
        "colab_type": "text"
      },
      "source": [
        "<a href=\"https://colab.research.google.com/github/Luna7891/tibame1224/blob/main/1224_02.ipynb\" target=\"_parent\"><img src=\"https://colab.research.google.com/assets/colab-badge.svg\" alt=\"Open In Colab\"/></a>"
      ]
    },
    {
      "cell_type": "markdown",
      "source": [
        "1. 環境設置\n",
        "   a. 本地環境:\n",
        "        a.1. 翻譯器: python 3.x\n",
        "        a.2. 輔助工具: Pycharm/VSCode\n",
        "Anaconda(X): 大集合\n",
        "   b. 線上環境:\n",
        "        b.1. repl.it\n",
        "        b.2. colab\n",
        "\n",
        "2. 一個完整的python程式就是.py檔案\n",
        "   從第一行執行到最後一行\n",
        "\n",
        "   colab她不能說是一個完整的python檔案\n",
        "   她是一個練習簿的感覺 你可以執行幾行\n",
        "   看一下結果 再執行幾行 以.ipynb結尾\n",
        "   (使用的是python套件 jupyter notebook)\n"
      ],
      "metadata": {
        "id": "jEnpfL1xRrbM"
      }
    },
    {
      "cell_type": "markdown",
      "source": [
        "```python\n",
        "第一個程式: bmi程式\n",
        "1. 可以讓使用者自由輸入她的身高體重\n",
        "2. 幫他計算bmi\n",
        "3. 給他點bmi建議\n",
        "\n",
        "1. 註解: 影響\"可讀性\"的一個重要要素\n",
        "  # xxxxxx\n",
        "\n",
        "2.功能: 參數 print(參數)\n",
        " !!! 就算沒有參數, 也要有小括號 xxx()\n",
        "\n",
        "3. 排版也是影響\"可讀性\"很重要的要素\n",
        "  !!! \\控一個...\n",
        "  !!! 可以參考pep coding style\n",
        "\n",
        "4. 不要重復寫: =\n",
        "  a. 5 == 3 + 2(左右是否相等?)\n",
        "  b. x = 3(取替)\n",
        "\n",
        "5. 型態(Type)\n",
        "  a.數字型態: 包含整理(int) 小數(float)\n",
        "  b.字串型態(str): \"xxx\"\n",
        "  !!!任何符號都只是一個字\n",
        "  !!!電話: 字串\n",
        "\n",
        "6. python對於型態是非常嚴格的一種語言\n",
        "  !!!絕對不會\"偷偷\"幫你做任何型態轉換\n",
        "  !!!數字=數字 ok 字串+字串ok 字串+數字(X)\n",
        "  !!!\"ab\" + \"cd\" -> \"abcd\"\n",
        "\n",
        "7. 型態轉換功能: int() float() str()\n",
        "\n",
        "8. 如果是...否則(IF-ELSE)\n",
        "if bmi > 25:\n",
        "    print\n",
        "    else\n",
        "    print\n",
        "\n",
        "縮排排版(冒號/TAB案件)\n",
        "Elwing:\n",
        "    xxxxxx\n",
        "    xxxx\n",
        "\n",
        "9. 讓使用者輸入的功能\n",
        "input(字串)\n",
        "\n",
        "!!! 剛剛你學會了參數, 你要多學會另外一件事\n",
        "!!! 回傳值: 做完這個功能所丟回來的\"新的答案\"\n",
        "(check)\n",
        "方便記憶: 你只要沒有做=設置, 值就不會改\n",
        "\n",
        "  ```"
      ],
      "metadata": {
        "id": "uGYTjYGul3yK"
      }
    },
    {
      "cell_type": "markdown",
      "source": [],
      "metadata": {
        "id": "NK9MoUXGnzdD"
      }
    },
    {
      "cell_type": "code",
      "source": [
        "# bmi = weight(kg) / height(m) ^ 2\n",
        "weight = float(input(\"請輸入體重:\"))\n",
        "height =  float(input(\"請輸入身高\"))\n",
        "bmi = weight / (height / 100) ** 2\n",
        "print(\"你的體重是:\"+ str(weight))\n",
        "print(\"你的身高是:\" +str(height))\n",
        "print(\"bmi是:\" + str(bmi))\n",
        "\n",
        "if bmi  > 25:\n",
        "  print(\"過重\")\n",
        "  print(\"少吃多動\")\n",
        "else:\n",
        "  print(\"正常\")"
      ],
      "metadata": {
        "colab": {
          "base_uri": "https://localhost:8080/"
        },
        "id": "QHCp-opinAtM",
        "outputId": "8e4f509f-5bea-49ba-e599-a2d340e26bd5"
      },
      "execution_count": null,
      "outputs": [
        {
          "output_type": "stream",
          "name": "stdout",
          "text": [
            "請輸入體重:48\n",
            "請輸入身高155\n",
            "你的體重是:48.0\n",
            "你的身高是:155.0\n",
            "bmi是:19.979188345473464\n",
            "正常\n"
          ]
        }
      ]
    },
    {
      "cell_type": "code",
      "source": [],
      "metadata": {
        "id": "PvKPCKH3sOUH"
      },
      "execution_count": null,
      "outputs": []
    },
    {
      "cell_type": "markdown",
      "source": [
        "```python\n",
        "\n",
        "人類使用的數數方式叫十進位\n",
        "0 1 2 3 4 ... 9 10 11\n",
        "\n",
        "八進位\n",
        "0 1 2 3 4 7 10 11 17 20 77 100\n",
        "\n",
        "電腦是二進位\n",
        "0 1 10 11 100 101 110 111 10000\n",
        "\n",
        "有限小數 ->二進位是有限小數(?)\n",
        "\n",
        "1/3 -> 0.333333(十進位無限)  ->0.1(三進位有限)\n",
        "\n",
        "所以你再說兩個小數的相等的時候不是說他們一樣, 而是他們的誤差小於多少你就認為這兩個小數相等\n",
        "```"
      ],
      "metadata": {
        "id": "G_f6PU_rsO1F"
      }
    },
    {
      "cell_type": "code",
      "source": [
        "import decimal\n",
        "print(3 + 3.14)\n",
        "print(decimal.Decimal(\"3\") + decimal.Decimal(\"3.14\"))"
      ],
      "metadata": {
        "colab": {
          "base_uri": "https://localhost:8080/"
        },
        "id": "ZgCyzKjcopNJ",
        "outputId": "e890ddcf-fe01-4679-a357-14711edddfc5"
      },
      "execution_count": null,
      "outputs": [
        {
          "output_type": "stream",
          "name": "stdout",
          "text": [
            "6.140000000000001\n",
            "6.14\n"
          ]
        }
      ]
    },
    {
      "cell_type": "markdown",
      "source": [],
      "metadata": {
        "id": "sjJ_MgfroqHv"
      }
    },
    {
      "cell_type": "code",
      "source": [
        "# demo 回傳值\n",
        "a = 3.6\n",
        "b = int(a)\n",
        "print(a)\n",
        "print(b)"
      ],
      "metadata": {
        "colab": {
          "base_uri": "https://localhost:8080/"
        },
        "id": "nOl48pCUPRmM",
        "outputId": "2cfe8bb4-3b29-4c19-f39e-7397373431c8"
      },
      "execution_count": null,
      "outputs": [
        {
          "output_type": "stream",
          "name": "stdout",
          "text": [
            "3.6\n",
            "3\n"
          ]
        }
      ]
    },
    {
      "cell_type": "markdown",
      "source": [],
      "metadata": {
        "id": "A0Mfd5tdo9ad"
      }
    },
    {
      "cell_type": "code",
      "source": [
        "# !!! 沒有=, 值就不會改\n",
        "a = 3.6\n",
        "a + 2\n",
        "print(a)\n",
        "print(b)"
      ],
      "metadata": {
        "colab": {
          "base_uri": "https://localhost:8080/"
        },
        "id": "TR7Z1_ujQQHV",
        "outputId": "2c33c4b9-36b3-4a08-fcad-b219ca24e8e4"
      },
      "execution_count": null,
      "outputs": [
        {
          "output_type": "stream",
          "name": "stdout",
          "text": [
            "3.6\n",
            "3\n"
          ]
        }
      ]
    },
    {
      "cell_type": "markdown",
      "source": [
        "# 剪刀石頭布\n",
        "\n",
        "```python\n",
        "1. 想永遠比寫來的重要\n",
        "\n",
        "2. 先想核心 3 x 3(bad) 下一個贏上一個\n",
        "\n",
        "3. 想想細節: 該用什麼表示\n",
        "只要有大小(隱含)關系: 整數(從0開始)\n",
        "你要讓別人輸入: 整數\n",
        "\n",
        "4. 當你使用別隻.py的時候 你都要先引用(import)\n",
        "import .py名\n",
        "(把import後面照抄)\n",
        "!!! 不管python內建的 http://docs.python.org\n",
        "\n",
        "5. .是中文的\"的\"\n",
        "\n",
        "6. 清單型態(list)\n",
        "trans = [\"剪刀\", \"十頭\", \"布\"]\n",
        "清單在創的時候, python就會預設給她編號(0, 1, 2...)\n",
        "\n",
        "key(編號)- value: 拿key去查value\n",
        "查東西[key]\n",
        "\n",
        "7. 如果...否則如果...否則\n",
        "(單選題: 篩選效果, 嚴格要放上面)\n",
        "if bmi > 25:\n",
        "    print\n",
        "elif 25 >bmi > 18:\n",
        "  print\n",
        "else:\n",
        "  print\n",
        "\n",
        "!!! else是可以不寫的\n",
        "!!! else是剩下的!, 很強, 最難的放在else\n",
        "\n",
        "8. 程式中: 記得邊念中文\n",
        "\n",
        "```\n"
      ],
      "metadata": {
        "id": "Lmib77d5pUsO"
      }
    },
    {
      "cell_type": "markdown",
      "source": [
        "# 數學概念\n",
        "\n",
        "```python\n",
        "1. 剪刀石頭布: 我們很明顯有個循環的概念存在0->1->2->0(3)\n",
        "\n",
        "2. 本來想-3, 但是是超過的時候才-3\n",
        "7 / 3 = 2...1\n",
        "7 - 3 - 3 = 1\n",
        "\n",
        "a. 取商: 7 // 3 -> 2\n",
        "b. 取餘(mod): 7 % 3 -> 1 (循環運算)\n",
        "\n",
        "0 % 3 = 0\n",
        "1 % 3 = 1\n",
        "2 % 3 = 2\n",
        "3 % 3 = 0\n",
        "4 % 3 = 1  \n",
        "5 % 3 = 2\n",
        "6 % 3 = 0\n",
        "\n",
        "!!! 0-4: %5 0-9: %10 0-x:%(x+1)\n",
        "!!! 什麼時候要取: 有可能超過\n",
        "\n",
        "```"
      ],
      "metadata": {
        "id": "v8yXj6CeniHf"
      }
    },
    {
      "cell_type": "code",
      "source": [
        "import random\n",
        "\n",
        "my = int(input(\"0.剪刀 1.石頭 2.布:\"))\n",
        "com = random.randint(0, 2)\n",
        "trans = [\"剪刀\", \"石頭\", \"布\"]\n",
        "print(\"我出的:\", trans[my])\n",
        "print(\"電腦的:\", trans[com])\n",
        "\n",
        "# >, >=, <=, ==\n",
        "if my == (com + 1) % 3:\n",
        "    print(\"WIN\")\n",
        "elif com == (my + 1) %3:\n",
        "    print(\"LOSE\")\n",
        "else:\n",
        "    print(\"EVEN\")\n",
        "# 如果你的縮排在這裡 什麼時候都會印\n",
        "print(\"!!!!!!\")"
      ],
      "metadata": {
        "colab": {
          "base_uri": "https://localhost:8080/"
        },
        "id": "pxKAkTuEZi2a",
        "outputId": "afcded29-6275-48fe-a4dd-106c2749ec37"
      },
      "execution_count": null,
      "outputs": [
        {
          "output_type": "stream",
          "name": "stdout",
          "text": [
            "0.剪刀 1.石頭 2.布:1\n",
            "我出的: 石頭\n",
            "電腦的: 石頭\n",
            "EVEN\n"
          ]
        }
      ]
    },
    {
      "cell_type": "code",
      "source": [
        "# key-value查詢\n",
        "s= \"abcdef\"\n",
        "s[5]"
      ],
      "metadata": {
        "colab": {
          "base_uri": "https://localhost:8080/",
          "height": 36
        },
        "id": "CtQ4olKzi7Xs",
        "outputId": "8ba634ca-d899-4a03-fb21-55cefa914dec"
      },
      "execution_count": null,
      "outputs": [
        {
          "output_type": "execute_result",
          "data": {
            "text/plain": [
              "'f'"
            ],
            "application/vnd.google.colaboratory.intrinsic+json": {
              "type": "string"
            }
          },
          "metadata": {},
          "execution_count": 44
        }
      ]
    },
    {
      "cell_type": "code",
      "source": [
        "import random\n",
        "\n",
        "my = int(input(\"剪刀(0), \"石頭(0)\"\" 2.布:\"))\n",
        "com = random.randint(0, 2)\n",
        "trans = [\"剪刀(0)\", \"石頭(0)\", \"布\"]\n",
        "print(\"我出的:\", trans[my])\n",
        "print(\"電腦的:\", trans[com])\n",
        "\n",
        "# >, >=, <=, ==\n",
        "if my == (com + 1) % 3:\n",
        "    print(\"WIN\")\n",
        "elif com == (my + 1) %3:\n",
        "    print(\"LOSE\")\n",
        "else:\n",
        "    print(\"EVEN\")\n",
        "# 如果你的縮排在這裡 什麼時候都會印\n",
        "print(\"!!!!!!\")"
      ],
      "metadata": {
        "id": "DrAbC-FlI7qT"
      },
      "execution_count": null,
      "outputs": []
    }
  ]
}