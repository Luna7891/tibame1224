{
  "nbformat": 4,
  "nbformat_minor": 0,
  "metadata": {
    "colab": {
      "provenance": [],
      "authorship_tag": "ABX9TyP4G8O7wPcCemwEBPWTvqeI",
      "include_colab_link": true
    },
    "kernelspec": {
      "name": "python3",
      "display_name": "Python 3"
    },
    "language_info": {
      "name": "python"
    }
  },
  "cells": [
    {
      "cell_type": "markdown",
      "metadata": {
        "id": "view-in-github",
        "colab_type": "text"
      },
      "source": [
        "<a href=\"https://colab.research.google.com/github/Luna7891/tibame1224/blob/main/12_31_01.ipynb\" target=\"_parent\"><img src=\"https://colab.research.google.com/assets/colab-badge.svg\" alt=\"Open In Colab\"/></a>"
      ]
    },
    {
      "cell_type": "code",
      "execution_count": null,
      "metadata": {
        "id": "5Vz6lyiuRpc3"
      },
      "outputs": [],
      "source": [
        "#迴圈第三\n",
        "\n",
        "```python\n",
        "\n"
      ]
    },
    {
      "cell_type": "markdown",
      "source": [
        "# 迴圈第三\n",
        "\n",
        "```python\n",
        "不限次數的迴圈\n",
        "\n",
        "!!! while 後面自由寫\n",
        "\n",
        "布林(Boolean)型態: 是否型態\n",
        "True False\n",
        "1. 不: not加在前面\n",
        "2. 組合: 而且(and) 或者(or)\n",
        "條件1 and 條件2\n",
        "bmi > 25 and height > 175\n",
        "!!! 而且和或者會用反的人 都是\"中文有問題\"\n",
        "\n",
        "```"
      ],
      "metadata": {
        "id": "N4DsM0TlSNrv"
      }
    },
    {
      "cell_type": "code",
      "source": [],
      "metadata": {
        "id": "fHHEGAzrVygy"
      },
      "execution_count": null,
      "outputs": []
    },
    {
      "cell_type": "code",
      "source": [
        "import random\n",
        "\n",
        "# 隨機一個整數 -1: 輸 0: 平手 1: 贏\n",
        "\n",
        "trans = [\"輸(L)\", \"平手(E)\", \"贏(W)\"]\n",
        "\n",
        "win, even, lose = 0, 0, 0\n",
        "# 條件1: win < 3\n",
        "# 條件2: lose <3\n",
        "# 當 我還沒贏三次 而且 對手還沒贏三次(0)\n",
        "# 當 我還沒贏三次 或者 對手還沒贏三次(x)\n",
        "# -> 每個人都要贏三次以上才能結束\n",
        "while win < 3 and lose < 3:\n",
        "   result = random.randint(-1, 1)\n",
        "   print(trans[result+1])\n",
        "   if result == -1:\n",
        "       lose = lose + 1\n",
        "   elif result == 0:\n",
        "       even = even + 1\n",
        "   elif result == 1:\n",
        "       win = win + 1\n",
        "\n",
        "if win > lose:\n",
        "    print(\"總體: WIN\")\n",
        "else:\n",
        "    print(\"總體: LOSE\")"
      ],
      "metadata": {
        "colab": {
          "base_uri": "https://localhost:8080/"
        },
        "id": "_24ggWl9SUBl",
        "outputId": "3d9a4e6a-da1c-4f77-8daf-971287695f62"
      },
      "execution_count": null,
      "outputs": [
        {
          "output_type": "stream",
          "name": "stdout",
          "text": [
            "贏(W)\n",
            "贏(W)\n",
            "輸(L)\n",
            "贏(W)\n",
            "總體: WIN\n"
          ]
        }
      ]
    },
    {
      "cell_type": "code",
      "source": [
        "print(not \"apl\" in \"apple\")\n",
        "print(not 2 == 2)\n",
        "height = 175\n",
        "weight = 80\n",
        "age = 18\n",
        "print(age >=18 and weight >= 80)\n",
        "print(height < 160 or weight >70)"
      ],
      "metadata": {
        "colab": {
          "base_uri": "https://localhost:8080/"
        },
        "id": "5WGvayZOLTQ8",
        "outputId": "27778224-d574-4f41-c5e4-96eb5cbe04e3"
      },
      "execution_count": 1,
      "outputs": [
        {
          "output_type": "stream",
          "name": "stdout",
          "text": [
            "True\n",
            "False\n",
            "True\n",
            "True\n"
          ]
        }
      ]
    },
    {
      "cell_type": "markdown",
      "source": [
        "```python\n",
        "while 永遠對的描述: 無窮迴圈\n",
        "-> while True\n",
        "\n",
        "配合break: 跳出迴圈\n",
        "\n",
        "while False(基本上用不到)\n",
        "\n",
        "```"
      ],
      "metadata": {
        "id": "po-k6K6ud8-2"
      }
    },
    {
      "cell_type": "code",
      "source": [
        "import random\n",
        "\n",
        "# 隨機一個整數 -1: 輸 0: 平手 1: 贏\n",
        "\n",
        "trans = [\"輸(L)\", \"平手(E)\", \"贏(W)\"]\n",
        "\n",
        "win, even, lose = 0, 0, 0\n",
        "\n",
        "while True:\n",
        "    result = random.randint(-1, 1)\n",
        "    print(trans[result+1])\n",
        "    if result == -1:\n",
        "        lose = lose + 1\n",
        "    elif result == 0:\n",
        "        even = even + 1\n",
        "    elif result == 1:\n",
        "        win = win + 1\n",
        "\n",
        "    # 判斷改在這\n",
        "    # 1. 妳不用在while後面塞下所有條件, 甚至妳不用塞一堆and/or(地點自由)\n",
        "    # 2. 任意時間判斷(時間自由)\n",
        "    # 3. 是妳可以做完收尾工作才結束迴圈(流程自由)\n",
        "    # 4. 隱性好處: 有時候結束講中文會比較容易\n",
        "    if win >= 3:\n",
        "        print(\"總體: WIN\")\n",
        "        break\n",
        "    elif lose >= 3:\n",
        "        print(\"總體: LOSE\")\n",
        "        break"
      ],
      "metadata": {
        "colab": {
          "base_uri": "https://localhost:8080/"
        },
        "id": "9YLYb7vud3dS",
        "outputId": "f554f6ff-0f70-4282-8738-032581299e7a"
      },
      "execution_count": 2,
      "outputs": [
        {
          "output_type": "stream",
          "name": "stdout",
          "text": [
            "輸(L)\n",
            "平手(E)\n",
            "贏(W)\n",
            "平手(E)\n",
            "平手(E)\n",
            "贏(W)\n",
            "贏(W)\n",
            "總體: WIN\n"
          ]
        }
      ]
    },
    {
      "cell_type": "code",
      "source": [],
      "metadata": {
        "id": "ExE5VxNDw6e9"
      },
      "execution_count": null,
      "outputs": []
    },
    {
      "cell_type": "markdown",
      "source": [],
      "metadata": {
        "id": "H5-8F2Hzw7yD"
      }
    },
    {
      "cell_type": "code",
      "source": [
        "# 如果今天整除 要提早結束\n",
        "# 2 / 7 -> 0.2857142857\n",
        "# 3 / 5 -> 0.6\n",
        "# 50 / 7 -> 7.1428571428\n",
        "a, b = 50, 7\n",
        "ans = str(a//b) + \".\"\n",
        "a = a % b\n",
        "\n",
        "i = 0\n",
        "while i < 10:\n",
        "    # 2 -> 20\n",
        "    a10 = a * 10\n",
        "    # 20 // 7 -> 0.2\n",
        "    ans = ans + str(a10 // b)\n",
        "    print(ans)\n",
        "    # 20 % 7\n",
        "    a = a10 % b\n",
        "    if a == 0:\n",
        "        break\n",
        "    i = i + 1"
      ],
      "metadata": {
        "colab": {
          "base_uri": "https://localhost:8080/"
        },
        "id": "ORSOAzQChJAu",
        "outputId": "65222f6e-202a-4a11-f3c2-46aebf06bea7"
      },
      "execution_count": 3,
      "outputs": [
        {
          "output_type": "stream",
          "name": "stdout",
          "text": [
            "7.1\n",
            "7.14\n",
            "7.142\n",
            "7.1428\n",
            "7.14285\n",
            "7.142857\n",
            "7.1428571\n",
            "7.14285714\n",
            "7.142857142\n",
            "7.1428571428\n"
          ]
        }
      ]
    },
    {
      "cell_type": "code",
      "source": [],
      "metadata": {
        "id": "A8e_iUUFleKB"
      },
      "execution_count": null,
      "outputs": []
    },
    {
      "cell_type": "code",
      "source": [
        "# 如果今天整除 要提早結束\n",
        "# 2, 7 -> 0.2587142857\n",
        "# 3 / 5 -> 0.6\n",
        "# 50 / 7 -> 7.1428571428\n",
        "a, b = 50, 7\n",
        "ans = str(a//b)\n",
        "\n",
        "i = 0\n",
        "while i < 10:\n",
        "    # 2 -> 20\n",
        "    a10 = a * 10\n",
        "    # 20 // 7 -> 0.2\n",
        "    ans = ans + str(a10 // b)\n",
        "    print(ans)\n",
        "    # 20 % 7\n",
        "    a = a10 % b\n",
        "    if a == 0:\n",
        "         break\n",
        "    i = i + 1"
      ],
      "metadata": {
        "colab": {
          "base_uri": "https://localhost:8080/"
        },
        "id": "7zuNZ1rni_G8",
        "outputId": "99b3e271-c35d-4d6c-c1ed-5971e0dccf5e"
      },
      "execution_count": null,
      "outputs": [
        {
          "output_type": "stream",
          "name": "stdout",
          "text": [
            "771\n",
            "7714\n",
            "77142\n",
            "771428\n",
            "7714285\n",
            "77142857\n",
            "771428571\n",
            "7714285714\n",
            "77142857142\n",
            "771428571428\n"
          ]
        }
      ]
    },
    {
      "cell_type": "markdown",
      "source": [
        "# 完全平方日\n",
        "\n",
        "```python\n",
        "4499 ** 2 -> 20241001(O)\n",
        "4497 ** 2 -> 20223009(x)\n",
        "\n",
        "\n",
        "目標: 給妳隨便一個日期, 幫我往後出10個完全平方日\n",
        "\n",
        "1. 某個日期是不是合理\n",
        "\n",
        "```"
      ],
      "metadata": {
        "id": "up_YSnrgd68q"
      }
    },
    {
      "cell_type": "markdown",
      "source": [
        "```python\n",
        "閏年寫法1\n",
        "if year % 400 == 0:\n",
        "    month_day = month_day + 1\n",
        "elif year % 100 == 0:\n",
        "    pass\n",
        "elif year % 4 == 0:\n",
        "    month_day = month_day + 1\n",
        "\n",
        "閏年寫法2\n",
        "if year % 4 == 0:\n",
        "    if year % 100 == 0:\n",
        "        if year % 400 == 0:\n",
        "            month_day = month_day + 1\n",
        "        else:\n",
        "            pass\n",
        "    else:\n",
        "        month_day = month_day + 1\n",
        "else:\n",
        "    pass\n",
        "\n",
        "閏年寫法3\n",
        "if year % 4 == 0:\n",
        "    month_day = month_day + 1\n",
        "if year % 100 == 0:\n",
        "    month_day = month_day - 1\n",
        "\n",
        "\n",
        "\n",
        "!!! 應該要考慮的是 過了很久以後 3100年以後又差了一天\n",
        "!!! 這想起來是符合潤的邏輯的, 以目前的計算方式, 每過多少年會多一天/少一天\n",
        "\n",
        "\n",
        "發覺每四年少一天\n",
        "-> 每過四年 2月多加一天\n",
        "-> 建立在上面條件上, 當我在80年的時候 我又會多一天了(扣1)\n",
        "\n",
        "\n",
        "\n",
        "!!! 本來閏年可能是第三種, 但這樣太難想了, 所以閏年邏輯已經被轉變成第一種了, 每一個情況一定是之前情況的包含!!!\n",
        "```"
      ],
      "metadata": {
        "id": "10T059nVLqER"
      }
    },
    {
      "cell_type": "code",
      "source": [
        "n = 20221239\n",
        "last4 = n % 10000\n",
        "day = last4 % 100\n",
        "month = last4 // 100\n",
        "print(last4, day, month)\n",
        "\n",
        "max_days = [30, 28, 31, 30, 31, 30, 31, 31, 30, 31, 30, 31]\n",
        "if 1 <= month <= 12:\n",
        "    if 1 <= day <= max_days[month-1]:\n",
        "        print(\"合理\")\n",
        "    else:\n",
        "        print(\"不合理日期(天)\")\n",
        "else:\n",
        "    print(\"不合理輸入(月)\")"
      ],
      "metadata": {
        "colab": {
          "base_uri": "https://localhost:8080/"
        },
        "id": "3hCPiPTSljct",
        "outputId": "ad9bf258-b15d-4694-a5f6-9268217ccc55"
      },
      "execution_count": null,
      "outputs": [
        {
          "output_type": "stream",
          "name": "stdout",
          "text": [
            "1239 39 12\n",
            "不合理日期(天)\n"
          ]
        }
      ]
    },
    {
      "cell_type": "code",
      "source": [],
      "metadata": {
        "id": "2rItYjuqyO7X"
      },
      "execution_count": null,
      "outputs": []
    },
    {
      "cell_type": "markdown",
      "source": [
        "# 自訂功能\n",
        "\n",
        "```python\n",
        "def 功能名(參數):\n",
        "    很多事\n",
        "    return 回傳值\n",
        "\n",
        "!!! 定義參數的時候只是先給個代號\n",
        "!!! 如果你不寫return, 就是沒回傳值\n",
        "!!! 如果你沒有參數, ()還是要打\n",
        "\n",
        "```"
      ],
      "metadata": {
        "id": "t0HofuOqQP2p"
      }
    },
    {
      "cell_type": "code",
      "source": [
        "1 # 自訂功能demo\n",
        "def add(n1, n2):\n",
        "   ans = n1 + n2\n",
        "   return ans\n",
        "print (add(3, 5))\n",
        "print(add (4, 6))"
      ],
      "metadata": {
        "colab": {
          "base_uri": "https://localhost:8080/"
        },
        "id": "oJALosMWQhTb",
        "outputId": "cc31daaf-e670-4f59-f070-009484c1ffa9"
      },
      "execution_count": null,
      "outputs": [
        {
          "output_type": "stream",
          "name": "stdout",
          "text": [
            "8\n",
            "10\n"
          ]
        }
      ]
    },
    {
      "cell_type": "markdown",
      "source": [
        "```python\n",
        "每4潤 100不潤 400潤\n",
        "1980 -> 潤 4的倍數 不是100的倍數\n",
        "2000 -> 不潤 4的倍數 也是100的倍數 也是400的倍數\n",
        "3000 -> 不潤 4的倍數 也是100的倍數 但不是400的倍數\n",
        "\n",
        "```"
      ],
      "metadata": {
        "id": "0hwb-PVLw9fr"
      }
    },
    {
      "cell_type": "code",
      "source": [
        "# n = 19800229\n",
        "# n = 20000229\n",
        "# n = 30000229\n",
        "def is_leap_year(year):\n",
        "    if year % 400 == 0:\n",
        "        return True\n",
        "    elif year % 100 == 0:\n",
        "        return False\n",
        "    elif year % 4 == 0:\n",
        "        return True\n",
        "    else:\n",
        "        return False\n",
        "\n",
        "def is_valid_date(n):\n",
        "    year = n // 10000\n",
        "    last4 = n % 10000\n",
        "    day = last4 % 100\n",
        "    month = last4 // 100\n",
        "    # print(year, month, day)\n",
        "\n",
        "    max_days = [31, 28, 31, 30, 31, 30, 31, 31, 30, 31, 30, 31]\n",
        "    if 1 <= month <= 12:\n",
        "        month_day = max_days[month-1]\n",
        "        # 考慮閏年\n",
        "        if month == 2 and is_leap_year(year) == True:\n",
        "            month_day = month_day + 1\n",
        "\n",
        "        if 1 <= day <= month_day:\n",
        "            # print(\"合理\")\n",
        "            return True\n",
        "        else:\n",
        "            # print(\"不合理日期(天)\")\n",
        "            return False\n",
        "    else:\n",
        "        # print(\"不合理日期(月)\")\n",
        "        return False\n",
        "\n",
        "# print(is_valid_date(19800229))\n",
        "# print(is_valid_date(20000229))\n",
        "# print(is_valid_date(30000229))\n",
        "\n",
        "# 正面: 把真實的日期拿出來, 檢查她可以不可以被開根號\n",
        "# 反面: 先拿值出來, 平方, 看這個平方過後的東西可不可以當日期(o)\n",
        "import math\n",
        "today = 20241231\n",
        "start = math.ceil(today ** 0.5)\n",
        "count = 0\n",
        "while True:\n",
        "    date = start ** 2\n",
        "    if is_valid_date(date) == True:\n",
        "        print(start, date, \"是個完全平方日\")\n",
        "        count = count + 1\n",
        "    start = start + 1\n",
        "    if count == 10:\n",
        "        break"
      ],
      "metadata": {
        "colab": {
          "base_uri": "https://localhost:8080/"
        },
        "id": "h5wZIc3QyQUd",
        "outputId": "96bbae5f-63e3-43cc-9b61-d62657e26e43"
      },
      "execution_count": 4,
      "outputs": [
        {
          "output_type": "stream",
          "name": "stdout",
          "text": [
            "4552 20720704 是個完全平方日\n",
            "4575 20930625 是個完全平方日\n",
            "4599 21150801 是個完全平方日\n",
            "4625 21390625 是個完全平方日\n",
            "4639 21520321 是個完全平方日\n",
            "4652 21641104 是個完全平方日\n",
            "4653 21650409 是個完全平方日\n",
            "4668 21790224 是個完全平方日\n",
            "4682 21921124 是個完全平方日\n",
            "4698 22071204 是個完全平方日\n"
          ]
        }
      ]
    },
    {
      "cell_type": "code",
      "source": [
        "import math\n",
        "math.floor(169 ** 0.5)"
      ],
      "metadata": {
        "colab": {
          "base_uri": "https://localhost:8080/"
        },
        "id": "CkRwXGFNa8iD",
        "outputId": "70db8ceb-b3be-4da5-a3a4-ff1850845334"
      },
      "execution_count": null,
      "outputs": [
        {
          "output_type": "execute_result",
          "data": {
            "text/plain": [
              "13"
            ]
          },
          "metadata": {},
          "execution_count": 8
        }
      ]
    },
    {
      "cell_type": "markdown",
      "source": [
        "```python\n",
        "每4潤 100不潤 400潤\n",
        "1980 -> 潤 4的倍數 不是100的倍數\n",
        "2000 -> 潤 4的倍數 也是100的倍數 也是400的倍數\n",
        "3000 -> 不潤 4的倍數 也是100的倍數 但不是400的倍數\n",
        "\n",
        "\n",
        "```\n"
      ],
      "metadata": {
        "id": "Z_Tv62OtL4oe"
      }
    }
  ]
}