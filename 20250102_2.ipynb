{
  "nbformat": 4,
  "nbformat_minor": 0,
  "metadata": {
    "colab": {
      "provenance": [],
      "authorship_tag": "ABX9TyMmPkB1OSgyYFfHJQkTALgD",
      "include_colab_link": true
    },
    "kernelspec": {
      "name": "python3",
      "display_name": "Python 3"
    },
    "language_info": {
      "name": "python"
    }
  },
  "cells": [
    {
      "cell_type": "markdown",
      "metadata": {
        "id": "view-in-github",
        "colab_type": "text"
      },
      "source": [
        "<a href=\"https://colab.research.google.com/github/Luna7891/tibame1224/blob/main/20250102_2.ipynb\" target=\"_parent\"><img src=\"https://colab.research.google.com/assets/colab-badge.svg\" alt=\"Open In Colab\"/></a>"
      ]
    },
    {
      "cell_type": "markdown",
      "source": [
        "# 檔案讀寫\n",
        "\n",
        "```python\n",
        "1. 請妳always在檔案讀寫將encoding設定為utf-8\n",
        "2. 因為你不做設置的話, 有可能會使用系統預設編碼\n",
        "\n",
        "windows: ANSI(美國標準) 對於繁體她是BIG5 對於檢體來說GBK\n",
        "MAC...UNIX系統: utf-8\n",
        "\n",
        "```"
      ],
      "metadata": {
        "id": "aU9yUUL_NuwY"
      }
    },
    {
      "cell_type": "code",
      "execution_count": null,
      "metadata": {
        "id": "11UtAtc0NnVK"
      },
      "outputs": [],
      "source": [
        "f = open(\"a.txt\", \"w\", encoding=\"utf-8\")\n",
        "# 以前邏輯 寫入功能: write(f, \"abcde\")\n",
        "# 但我們發覺妳那第一個參數非得是檔案型態不可\n",
        "# 我們會想強調 這個功能是檔案的特殊功能\n",
        "# 專屬功能: f.write(\"abcde\")\n",
        "f.write(\"abcde\")\n",
        "# 所以打不出來的字, 譬如換行, 我們就會用兩個符號來組合這個字 \\n\n",
        "f.write(\"\\nfgh\")\n",
        "# 記得關閉, 因為關閉的時候會順便幫妳存檔\n",
        "# 以前: close(f)\n",
        "# 專屬功能: f.close()\n",
        "f.close()"
      ]
    },
    {
      "cell_type": "code",
      "source": [
        "# 資料夾資料夾  資料夾檔案 分隔always使用/\n",
        "f = open(\"sample_data/README.md\", \"r\", encoding=\"utf-8\")\n",
        "# 以前: content = read(f)\n",
        "# 專屬功能: content = f.read()\n",
        "content = f.read()\n",
        "print(content)\n",
        "f.close()"
      ],
      "metadata": {
        "colab": {
          "base_uri": "https://localhost:8080/"
        },
        "id": "u34x-8j6N33w",
        "outputId": "97c3763e-7c35-4160-e30a-895f262a2c09"
      },
      "execution_count": 3,
      "outputs": [
        {
          "output_type": "stream",
          "name": "stdout",
          "text": [
            "This directory includes a few sample datasets to get you started.\n",
            "\n",
            "*   `california_housing_data*.csv` is California housing data from the 1990 US\n",
            "    Census; more information is available at:\n",
            "    https://docs.google.com/document/d/e/2PACX-1vRhYtsvc5eOR2FWNCwaBiKL6suIOrxJig8LcSBbmCbyYsayia_DvPOOBlXZ4CAlQ5nlDD8kTaIDRwrN/pub\n",
            "\n",
            "*   `mnist_*.csv` is a small sample of the\n",
            "    [MNIST database](https://en.wikipedia.org/wiki/MNIST_database), which is\n",
            "    described at: http://yann.lecun.com/exdb/mnist/\n",
            "\n",
            "*   `anscombe.json` contains a copy of\n",
            "    [Anscombe's quartet](https://en.wikipedia.org/wiki/Anscombe%27s_quartet); it\n",
            "    was originally described in\n",
            "\n",
            "    Anscombe, F. J. (1973). 'Graphs in Statistical Analysis'. American\n",
            "    Statistician. 27 (1): 17-21. JSTOR 2682899.\n",
            "\n",
            "    and our copy was prepared by the\n",
            "    [vega_datasets library](https://github.com/altair-viz/vega_datasets/blob/4f67bdaad10f45e3549984e17e1b3088c731503d/vega_datasets/_data/anscombe.json).\n",
            "\n"
          ]
        }
      ]
    },
    {
      "cell_type": "code",
      "source": [
        "# 預設值定義\n",
        "def add(n1, n2=3.14, n3=20, n4=50):\n",
        "    ans = n1 + n2 + n3\n",
        "    return ans\n",
        "print(add(3, 5))\n",
        "print(add(3))\n",
        "print(add(3, n3=40))"
      ],
      "metadata": {
        "colab": {
          "base_uri": "https://localhost:8080/"
        },
        "id": "oml5XS6eN920",
        "outputId": "d0bc4029-254c-41d3-acb7-ae2aaf6a301c"
      },
      "execution_count": 2,
      "outputs": [
        {
          "output_type": "stream",
          "name": "stdout",
          "text": [
            "28\n",
            "26.14\n",
            "46.14\n"
          ]
        }
      ]
    },
    {
      "cell_type": "markdown",
      "source": [
        "# List進階操作\n",
        "\n",
        "```python\n",
        "List我們之前只學了\n",
        "1. 查詢操作: list[key]\n",
        "2. 設定操作: list[key] = 30\n",
        "\n",
        "查詢進階操作\n",
        "第一組key: 0 1 2 3....\n",
        "第二組key: ,,, -3 -2 -1\n",
        "1. 反向key: list[-1] !!!!\n",
        "2. 查詢一段: list[開始key:結束key(不包含)]\n",
        "3. 查詢一段並且跳著: list[開始key:結束(不包):幾個一跳]\n",
        "\n",
        "要記得的: [0] [-1] [::-1]\n",
        "\n",
        "```"
      ],
      "metadata": {
        "id": "6NYLz6cWODTQ"
      }
    },
    {
      "cell_type": "code",
      "source": [
        "scores = [30, 20, 60, 60, 40]\n",
        "print(sum(scores),\n",
        "   min(scores),\n",
        "   max(scores),\n",
        "   len(scores))\n",
        "print(60 in scores)\n",
        "\n",
        "# print(scores[len(scores)-1])\n",
        "print(scores[-1])\n",
        "\n",
        "# scores[2:4] scores[2/3]\n",
        "print(scores[1:4])\n",
        "print(scores[1:-1])\n",
        "print(scores[:4])\n",
        "print(scores[1:])\n",
        "\n",
        "# list[2:11:3] [2, 5, 8]\n",
        "print(scores[1:5:2])\n",
        "# 奇數位置\n",
        "print(scores[::2])\n",
        "# 偶數位置\n",
        "print(scores[1::2])\n",
        "# 跳號的值是正的, 就左到右\n",
        "# 跳號的值是負的, 從右到左\n",
        "# list[11:2:-3] [11, 8, 5]\n",
        "# !!!!!\n",
        "print(scores[::-1])"
      ],
      "metadata": {
        "colab": {
          "base_uri": "https://localhost:8080/"
        },
        "id": "cZeeV34tOF8y",
        "outputId": "bad98b13-d0af-4661-f7c2-16e1c9188b68"
      },
      "execution_count": 1,
      "outputs": [
        {
          "output_type": "stream",
          "name": "stdout",
          "text": [
            "210 20 60 5\n",
            "True\n",
            "40\n",
            "[20, 60, 60]\n",
            "[20, 60, 60]\n",
            "[30, 20, 60, 60]\n",
            "[20, 60, 60, 40]\n",
            "[20, 60]\n",
            "[30, 60, 40]\n",
            "[20, 60]\n",
            "[40, 60, 60, 20, 30]\n"
          ]
        }
      ]
    },
    {
      "cell_type": "code",
      "source": [
        "scores = [60, 80, 20, 30, 50]\n",
        "\n",
        "total = 0\n",
        "i = 0\n",
        "while i < len(scores):\n",
        "    # !!! 很不泛用: 以後不是每種群的key都會是0 1 2 3\n",
        "    s = scores[i]\n",
        "    if s >= 60:\n",
        "        total = total + 1\n",
        "    i = i + 1\n",
        "print(total)"
      ],
      "metadata": {
        "colab": {
          "base_uri": "https://localhost:8080/"
        },
        "id": "W-pyvFxlOWKJ",
        "outputId": "b4d94584-d040-4e56-fc8b-91ff5cbe57b3"
      },
      "execution_count": 4,
      "outputs": [
        {
          "output_type": "stream",
          "name": "stdout",
          "text": [
            "2\n"
          ]
        }
      ]
    },
    {
      "cell_type": "markdown",
      "source": [
        "```python\n",
        "for 名稱 in 群:\n",
        "    xxx\n",
        "    \n",
        "for...in會幫你這群東西裡面每個東西拿給妳一次, 有順序就照順序, 沒順序就隨意\n",
        "```"
      ],
      "metadata": {
        "id": "YzWIopgnOZWl"
      }
    },
    {
      "cell_type": "code",
      "source": [
        "scores = [60, 80, 20, 30, 50]\n",
        "total = 0\n",
        "for s in scores:\n",
        "    if s >= 60:\n",
        "        total = total + 1\n",
        "print(total)"
      ],
      "metadata": {
        "colab": {
          "base_uri": "https://localhost:8080/"
        },
        "id": "pnsp5uXQObtf",
        "outputId": "08dae04f-14b9-45b0-a748-b51dd340af0a"
      },
      "execution_count": 5,
      "outputs": [
        {
          "output_type": "stream",
          "name": "stdout",
          "text": [
            "2\n"
          ]
        }
      ]
    },
    {
      "cell_type": "code",
      "source": [
        "# 1 + 2 ... + 10\n",
        "total = 0\n",
        "i = 0\n",
        "while i < 10:\n",
        "    total = total + (i + 1)\n",
        "    print(total)\n",
        "    i = i + 1"
      ],
      "metadata": {
        "colab": {
          "base_uri": "https://localhost:8080/"
        },
        "id": "fZboAOXOOfzO",
        "outputId": "716cf4f3-064f-4edd-c6e1-c3cf6c8ef66a"
      },
      "execution_count": 6,
      "outputs": [
        {
          "output_type": "stream",
          "name": "stdout",
          "text": [
            "1\n",
            "3\n",
            "6\n",
            "10\n",
            "15\n",
            "21\n",
            "28\n",
            "36\n",
            "45\n",
            "55\n"
          ]
        }
      ]
    },
    {
      "cell_type": "markdown",
      "source": [
        "```PYTHON\n",
        "i = 0...9\n",
        "\n",
        "所以如果今天我有個[0, 1, 2, ..., 9]\n",
        "\n",
        "有功能可以幫你產生這個list\n",
        "!!!!!1. range(5) -> [0, 1, 2, 3, 4]\n",
        "2. range(2, 5) -> [2, 3, 4]\n",
        "3. range(2, 11, 3) -> [2, 5, 8]\n",
        "\n",
        "for i in range(次)\n",
        "1. 次在range裡\n",
        "2. i = 0....次-1\n",
        "\n",
        "```"
      ],
      "metadata": {
        "id": "ZHCPIUTdOiiG"
      }
    },
    {
      "cell_type": "code",
      "source": [
        "total = 0\n",
        "for i in range(10):\n",
        "    total = total + (i + 1)\n",
        "    print(total)"
      ],
      "metadata": {
        "colab": {
          "base_uri": "https://localhost:8080/"
        },
        "id": "Rpj5kml_OkZ7",
        "outputId": "147f1cb7-e34f-4b5f-833d-e1856bd951a6"
      },
      "execution_count": 7,
      "outputs": [
        {
          "output_type": "stream",
          "name": "stdout",
          "text": [
            "1\n",
            "3\n",
            "6\n",
            "10\n",
            "15\n",
            "21\n",
            "28\n",
            "36\n",
            "45\n",
            "55\n"
          ]
        }
      ]
    },
    {
      "cell_type": "markdown",
      "source": [
        "# 迴圈SOP\n",
        "\n",
        "```python\n",
        "1. 數次數: for i in range(次):\n",
        "2. 走過字串/list: for 名稱 in 群:\n",
        "3. 其他條件: while True + break\n",
        "```"
      ],
      "metadata": {
        "id": "PctQXQe0Onwo"
      }
    }
  ]
}