{
  "nbformat": 4,
  "nbformat_minor": 0,
  "metadata": {
    "colab": {
      "provenance": [],
      "authorship_tag": "ABX9TyMSJAS4QPjzFdCAE+R0m9zK",
      "include_colab_link": true
    },
    "kernelspec": {
      "name": "python3",
      "display_name": "Python 3"
    },
    "language_info": {
      "name": "python"
    }
  },
  "cells": [
    {
      "cell_type": "markdown",
      "metadata": {
        "id": "view-in-github",
        "colab_type": "text"
      },
      "source": [
        "<a href=\"https://colab.research.google.com/github/Luna7891/tibame1224/blob/main/12_31_02.ipynb\" target=\"_parent\"><img src=\"https://colab.research.google.com/assets/colab-badge.svg\" alt=\"Open In Colab\"/></a>"
      ]
    },
    {
      "cell_type": "code",
      "execution_count": null,
      "metadata": {
        "id": "ta3TrCB8moMJ"
      },
      "outputs": [],
      "source": []
    },
    {
      "cell_type": "markdown",
      "source": [
        "# 認識網路!!!\n",
        "\n",
        "```python\n",
        "兩台電腦溝通\n",
        "\n",
        "local <--> server\n",
        "\n",
        "server: 只回答\n",
        "local: 只問\n",
        "\n",
        "一個問題一個答案的世界:\n",
        "一個問題 - 網址\n",
        "一個回答 - 網頁/pdf/doc/mp3/mp4\n",
        "\n",
        "爬蟲: 反向(妳看到妳有興趣的答案, 妳要反查問題是啥)\n",
        "\n",
        "!!! 隱藏網址:一個網頁並不是只有一個網址構成\n",
        "\n",
        "1. 檢查原始碼(網址列)\n",
        "\n",
        "```\n",
        "\n"
      ],
      "metadata": {
        "id": "k_wsGQoMmuLG"
      }
    }
  ]
}