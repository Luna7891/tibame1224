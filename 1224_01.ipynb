{
  "nbformat": 4,
  "nbformat_minor": 0,
  "metadata": {
    "colab": {
      "provenance": [],
      "authorship_tag": "ABX9TyMObDzekn+Gf177uQ6lAIGC",
      "include_colab_link": true
    },
    "kernelspec": {
      "name": "python3",
      "display_name": "Python 3"
    },
    "language_info": {
      "name": "python"
    }
  },
  "cells": [
    {
      "cell_type": "markdown",
      "metadata": {
        "id": "view-in-github",
        "colab_type": "text"
      },
      "source": [
        "<a href=\"https://colab.research.google.com/github/Luna7891/tibame1224/blob/main/1224_01.ipynb\" target=\"_parent\"><img src=\"https://colab.research.google.com/assets/colab-badge.svg\" alt=\"Open In Colab\"/></a>"
      ]
    },
    {
      "cell_type": "code",
      "execution_count": null,
      "metadata": {
        "id": "L4EmuNrpbKu_"
      },
      "outputs": [],
      "source": []
    },
    {
      "cell_type": "markdown",
      "source": [
        "Latex Math\n",
        "$ a = \\sum_{i=0}^{n} \\frac{1}{n+1}  $\n"
      ],
      "metadata": {
        "id": "hbfdCVKuhRDG"
      }
    },
    {
      "cell_type": "code",
      "source": [],
      "metadata": {
        "id": "RlpQhEUphEwn"
      },
      "execution_count": null,
      "outputs": []
    }
  ]
}